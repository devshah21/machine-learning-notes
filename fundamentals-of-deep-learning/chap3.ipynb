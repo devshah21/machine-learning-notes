{
 "cells": [
  {
   "cell_type": "code",
   "execution_count": 1,
   "metadata": {},
   "outputs": [],
   "source": [
    "import tensorflow as tf"
   ]
  },
  {
   "cell_type": "code",
   "execution_count": null,
   "metadata": {},
   "outputs": [],
   "source": [
    "def inference(x):\n",
    "         tf.constant_initializer(value=0)\n",
    "         W = tf.get_variable(\"W\", [784, 10],\n",
    "                             initializer=init)\n",
    "         b = tf.get_variable(\"b\", [10],\n",
    "                             initializer=init)\n",
    "         output = tf.nn.softmax(tf.matmul(x, W) + b)\n",
    "         return output\n",
    "     \n",
    "def loss(output, y):\n",
    "        dot_product = y * tf.log(output)\n",
    "        # Reduction along axis 0 collapses each column into a\n",
    "        # single value, whereas reduction along axis 1 collapses\n",
    "        # each row into a single value. In general, reduction along\n",
    "        # axis i collapses the ith dimension of a tensor to size 1.\n",
    "        xentropy = -tf.reduce_sum(dot_product, reduction_indices=1)\n",
    "        loss = tf.reduce_mean(xentropy)\n",
    "        return loss\n",
    "    \n",
    "def training(cost, global_step):\n",
    "        optimizer = tf.train.GradientDescentOptimizer(\n",
    "        learning_rate)\n",
    "        train_op = optimizer.minimize(cost,\n",
    "        global_step=global_step)\n",
    "        return train_op\n",
    "\n",
    "def evaluate(output, y):\n",
    "         correct_prediction = tf.equal(tf.argmax(output, 1),\n",
    "                                       tf.argmax(y, 1))\n",
    "         accuracy = tf.reduce_mean(tf.cast(correct_prediction,\n",
    "                                           tf.float32))\n",
    "         return accuracy"
   ]
  },
  {
   "cell_type": "code",
   "execution_count": null,
   "metadata": {},
   "outputs": [],
   "source": []
  }
 ],
 "metadata": {
  "kernelspec": {
   "display_name": "Python 3.10.4 64-bit",
   "language": "python",
   "name": "python3"
  },
  "language_info": {
   "codemirror_mode": {
    "name": "ipython",
    "version": 3
   },
   "file_extension": ".py",
   "mimetype": "text/x-python",
   "name": "python",
   "nbconvert_exporter": "python",
   "pygments_lexer": "ipython3",
   "version": "3.10.4"
  },
  "orig_nbformat": 4,
  "vscode": {
   "interpreter": {
    "hash": "aee8b7b246df8f9039afb4144a1f6fd8d2ca17a180786b69acc140d282b71a49"
   }
  }
 },
 "nbformat": 4,
 "nbformat_minor": 2
}
